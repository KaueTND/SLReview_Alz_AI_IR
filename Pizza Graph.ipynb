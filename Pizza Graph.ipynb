{
 "cells": [
  {
   "cell_type": "code",
   "execution_count": 24,
   "metadata": {},
   "outputs": [],
   "source": [
    "import numpy as np\n",
    "import pandas as pd\n",
    "import matplotlib.pyplot as plt\n",
    "import seaborn as sns\n",
    "%matplotlib inline\n",
    "import matplotlib.patches as patches\n",
    "from matplotlib.patches import Rectangle\n",
    "import matplotlib.lines as mlines\n",
    "from scipy import stats"
   ]
  },
  {
   "cell_type": "code",
   "execution_count": 4,
   "metadata": {},
   "outputs": [
    {
     "data": {
      "text/html": [
       "<div>\n",
       "<style scoped>\n",
       "    .dataframe tbody tr th:only-of-type {\n",
       "        vertical-align: middle;\n",
       "    }\n",
       "\n",
       "    .dataframe tbody tr th {\n",
       "        vertical-align: top;\n",
       "    }\n",
       "\n",
       "    .dataframe thead th {\n",
       "        text-align: right;\n",
       "    }\n",
       "</style>\n",
       "<table border=\"1\" class=\"dataframe\">\n",
       "  <thead>\n",
       "    <tr style=\"text-align: right;\">\n",
       "      <th></th>\n",
       "      <th>Titulo</th>\n",
       "      <th>Autores</th>\n",
       "      <th>Ano</th>\n",
       "      <th>Instituicao</th>\n",
       "      <th>Imagem</th>\n",
       "      <th>Dataset</th>\n",
       "      <th>Ranking/Neural</th>\n",
       "      <th>ROI</th>\n",
       "      <th>Metricas</th>\n",
       "      <th>n Imagens</th>\n",
       "    </tr>\n",
       "  </thead>\n",
       "  <tbody>\n",
       "    <tr>\n",
       "      <th>0</th>\n",
       "      <td>3D Convolutional Neural Network and Stacked Bi...</td>\n",
       "      <td>n121</td>\n",
       "      <td>2018.0</td>\n",
       "      <td>Shenzhen University</td>\n",
       "      <td>MRI, PET</td>\n",
       "      <td>ADNI</td>\n",
       "      <td>Neural</td>\n",
       "      <td>Other Anatomical</td>\n",
       "      <td>A,S,R</td>\n",
       "      <td>397[100-128-76-93]</td>\n",
       "    </tr>\n",
       "    <tr>\n",
       "      <th>1</th>\n",
       "      <td>A Novel Deep Learning Framework on Brain Funct...</td>\n",
       "      <td>n136</td>\n",
       "      <td>2018.0</td>\n",
       "      <td>University of North Carolina at Chapel Hill</td>\n",
       "      <td>MRI</td>\n",
       "      <td>ADNI</td>\n",
       "      <td>Neural</td>\n",
       "      <td>Other Anatomical</td>\n",
       "      <td>A,S,R</td>\n",
       "      <td>351[172-179-0]</td>\n",
       "    </tr>\n",
       "    <tr>\n",
       "      <th>2</th>\n",
       "      <td>Deep Convolutional Neural Networks for Automat...</td>\n",
       "      <td>n148</td>\n",
       "      <td>2018.0</td>\n",
       "      <td>Georgia State University</td>\n",
       "      <td>MRI</td>\n",
       "      <td>ADNI, OASIS</td>\n",
       "      <td>Neural</td>\n",
       "      <td>Other Anatomical</td>\n",
       "      <td>NaN</td>\n",
       "      <td>1726[537-806-347]</td>\n",
       "    </tr>\n",
       "    <tr>\n",
       "      <th>3</th>\n",
       "      <td>Early Detection of AlzheimerÍs Disease Using D...</td>\n",
       "      <td>n245</td>\n",
       "      <td>2018.0</td>\n",
       "      <td>Guangdong University of Technology</td>\n",
       "      <td>MRI</td>\n",
       "      <td>ADNI</td>\n",
       "      <td>Neural</td>\n",
       "      <td>whole brain</td>\n",
       "      <td>NaN</td>\n",
       "      <td>509[162-134-76-137]</td>\n",
       "    </tr>\n",
       "    <tr>\n",
       "      <th>4</th>\n",
       "      <td>Non-white matter tissue extraction and deep co...</td>\n",
       "      <td>n333</td>\n",
       "      <td>2018.0</td>\n",
       "      <td>Chonnam National University</td>\n",
       "      <td>MRI, PET</td>\n",
       "      <td>ADNI</td>\n",
       "      <td>Neural</td>\n",
       "      <td>Other Anatomical</td>\n",
       "      <td>A</td>\n",
       "      <td>615[207-215-193]</td>\n",
       "    </tr>\n",
       "  </tbody>\n",
       "</table>\n",
       "</div>"
      ],
      "text/plain": [
       "                                              Titulo Autores     Ano  \\\n",
       "0  3D Convolutional Neural Network and Stacked Bi...    n121  2018.0   \n",
       "1  A Novel Deep Learning Framework on Brain Funct...    n136  2018.0   \n",
       "2  Deep Convolutional Neural Networks for Automat...    n148  2018.0   \n",
       "3  Early Detection of AlzheimerÍs Disease Using D...    n245  2018.0   \n",
       "4  Non-white matter tissue extraction and deep co...    n333  2018.0   \n",
       "\n",
       "                                   Instituicao    Imagem       Dataset  \\\n",
       "0                          Shenzhen University  MRI, PET          ADNI   \n",
       "1  University of North Carolina at Chapel Hill       MRI          ADNI   \n",
       "2                     Georgia State University       MRI  ADNI, OASIS    \n",
       "3           Guangdong University of Technology       MRI          ADNI   \n",
       "4                  Chonnam National University  MRI, PET          ADNI   \n",
       "\n",
       "  Ranking/Neural               ROI Metricas            n Imagens  \n",
       "0         Neural  Other Anatomical    A,S,R   397[100-128-76-93]  \n",
       "1         Neural  Other Anatomical    A,S,R       351[172-179-0]  \n",
       "2         Neural  Other Anatomical      NaN    1726[537-806-347]  \n",
       "3         Neural       whole brain      NaN  509[162-134-76-137]  \n",
       "4         Neural  Other Anatomical        A     615[207-215-193]  "
      ]
     },
     "execution_count": 4,
     "metadata": {},
     "output_type": "execute_result"
    }
   ],
   "source": [
    "df = pd.read_csv(\"fichFinalAtualizado20182021.csv\", sep=';', encoding='latin-1')\n",
    "df.head()"
   ]
  },
  {
   "cell_type": "code",
   "execution_count": 5,
   "metadata": {},
   "outputs": [
    {
     "name": "stdout",
     "output_type": "stream",
     "text": [
      "Index(['Titulo', 'Autores', 'Ano', 'Instituicao', 'Imagem', 'Dataset',\n",
      "       'Ranking/Neural', 'ROI', 'Metricas', 'n Imagens'],\n",
      "      dtype='object')\n"
     ]
    },
    {
     "data": {
      "text/html": [
       "<div>\n",
       "<style scoped>\n",
       "    .dataframe tbody tr th:only-of-type {\n",
       "        vertical-align: middle;\n",
       "    }\n",
       "\n",
       "    .dataframe tbody tr th {\n",
       "        vertical-align: top;\n",
       "    }\n",
       "\n",
       "    .dataframe thead th {\n",
       "        text-align: right;\n",
       "    }\n",
       "</style>\n",
       "<table border=\"1\" class=\"dataframe\">\n",
       "  <thead>\n",
       "    <tr style=\"text-align: right;\">\n",
       "      <th></th>\n",
       "      <th>Autores</th>\n",
       "      <th>Imagem</th>\n",
       "      <th>ROI</th>\n",
       "    </tr>\n",
       "  </thead>\n",
       "  <tbody>\n",
       "    <tr>\n",
       "      <th>0</th>\n",
       "      <td>n121</td>\n",
       "      <td>MRI, PET</td>\n",
       "      <td>Other Anatomical</td>\n",
       "    </tr>\n",
       "    <tr>\n",
       "      <th>1</th>\n",
       "      <td>n136</td>\n",
       "      <td>MRI</td>\n",
       "      <td>Other Anatomical</td>\n",
       "    </tr>\n",
       "    <tr>\n",
       "      <th>2</th>\n",
       "      <td>n148</td>\n",
       "      <td>MRI</td>\n",
       "      <td>Other Anatomical</td>\n",
       "    </tr>\n",
       "    <tr>\n",
       "      <th>3</th>\n",
       "      <td>n245</td>\n",
       "      <td>MRI</td>\n",
       "      <td>whole brain</td>\n",
       "    </tr>\n",
       "    <tr>\n",
       "      <th>4</th>\n",
       "      <td>n333</td>\n",
       "      <td>MRI, PET</td>\n",
       "      <td>Other Anatomical</td>\n",
       "    </tr>\n",
       "  </tbody>\n",
       "</table>\n",
       "</div>"
      ],
      "text/plain": [
       "  Autores    Imagem               ROI\n",
       "0    n121  MRI, PET  Other Anatomical\n",
       "1    n136       MRI  Other Anatomical\n",
       "2    n148       MRI  Other Anatomical\n",
       "3    n245       MRI       whole brain\n",
       "4    n333  MRI, PET  Other Anatomical"
      ]
     },
     "execution_count": 5,
     "metadata": {},
     "output_type": "execute_result"
    }
   ],
   "source": [
    "#df[df['Ranking/Neural'] == 'Neural']\n",
    "print(df.columns)\n",
    "df[df['Ranking/Neural'] == 'Neural'][['Autores','Imagem','ROI']]"
   ]
  },
  {
   "cell_type": "code",
   "execution_count": 6,
   "metadata": {
    "scrolled": true
   },
   "outputs": [
    {
     "data": {
      "text/plain": [
       "University of North Carolina at Chapel Hill    1\n",
       "Shenzhen University                            1\n",
       "Georgia State University                       1\n",
       "Chonnam National University                    1\n",
       "Guangdong University of Technology             1\n",
       "xxx                                            1\n",
       "Name: Instituicao, dtype: int64"
      ]
     },
     "execution_count": 6,
     "metadata": {},
     "output_type": "execute_result"
    }
   ],
   "source": [
    "df['Instituicao'].value_counts().head(8)"
   ]
  },
  {
   "cell_type": "code",
   "execution_count": 7,
   "metadata": {},
   "outputs": [
    {
     "data": {
      "text/html": [
       "<div>\n",
       "<style scoped>\n",
       "    .dataframe tbody tr th:only-of-type {\n",
       "        vertical-align: middle;\n",
       "    }\n",
       "\n",
       "    .dataframe tbody tr th {\n",
       "        vertical-align: top;\n",
       "    }\n",
       "\n",
       "    .dataframe thead th {\n",
       "        text-align: right;\n",
       "    }\n",
       "</style>\n",
       "<table border=\"1\" class=\"dataframe\">\n",
       "  <thead>\n",
       "    <tr style=\"text-align: right;\">\n",
       "      <th></th>\n",
       "      <th>Titulo</th>\n",
       "      <th>Autores</th>\n",
       "      <th>Ano</th>\n",
       "      <th>Instituicao</th>\n",
       "      <th>Imagem</th>\n",
       "      <th>Dataset</th>\n",
       "      <th>Ranking/Neural</th>\n",
       "      <th>ROI</th>\n",
       "      <th>Metricas</th>\n",
       "      <th>n Imagens</th>\n",
       "    </tr>\n",
       "  </thead>\n",
       "  <tbody>\n",
       "    <tr>\n",
       "      <th>4</th>\n",
       "      <td>Non-white matter tissue extraction and deep co...</td>\n",
       "      <td>n333</td>\n",
       "      <td>2018.0</td>\n",
       "      <td>Chonnam National University</td>\n",
       "      <td>MRI, PET</td>\n",
       "      <td>ADNI</td>\n",
       "      <td>Neural</td>\n",
       "      <td>Other Anatomical</td>\n",
       "      <td>A</td>\n",
       "      <td>615[207-215-193]</td>\n",
       "    </tr>\n",
       "    <tr>\n",
       "      <th>2</th>\n",
       "      <td>Deep Convolutional Neural Networks for Automat...</td>\n",
       "      <td>n148</td>\n",
       "      <td>2018.0</td>\n",
       "      <td>Georgia State University</td>\n",
       "      <td>MRI</td>\n",
       "      <td>ADNI, OASIS</td>\n",
       "      <td>Neural</td>\n",
       "      <td>Other Anatomical</td>\n",
       "      <td>NaN</td>\n",
       "      <td>1726[537-806-347]</td>\n",
       "    </tr>\n",
       "    <tr>\n",
       "      <th>3</th>\n",
       "      <td>Early Detection of AlzheimerÍs Disease Using D...</td>\n",
       "      <td>n245</td>\n",
       "      <td>2018.0</td>\n",
       "      <td>Guangdong University of Technology</td>\n",
       "      <td>MRI</td>\n",
       "      <td>ADNI</td>\n",
       "      <td>Neural</td>\n",
       "      <td>whole brain</td>\n",
       "      <td>NaN</td>\n",
       "      <td>509[162-134-76-137]</td>\n",
       "    </tr>\n",
       "    <tr>\n",
       "      <th>0</th>\n",
       "      <td>3D Convolutional Neural Network and Stacked Bi...</td>\n",
       "      <td>n121</td>\n",
       "      <td>2018.0</td>\n",
       "      <td>Shenzhen University</td>\n",
       "      <td>MRI, PET</td>\n",
       "      <td>ADNI</td>\n",
       "      <td>Neural</td>\n",
       "      <td>Other Anatomical</td>\n",
       "      <td>A,S,R</td>\n",
       "      <td>397[100-128-76-93]</td>\n",
       "    </tr>\n",
       "    <tr>\n",
       "      <th>1</th>\n",
       "      <td>A Novel Deep Learning Framework on Brain Funct...</td>\n",
       "      <td>n136</td>\n",
       "      <td>2018.0</td>\n",
       "      <td>University of North Carolina at Chapel Hill</td>\n",
       "      <td>MRI</td>\n",
       "      <td>ADNI</td>\n",
       "      <td>Neural</td>\n",
       "      <td>Other Anatomical</td>\n",
       "      <td>A,S,R</td>\n",
       "      <td>351[172-179-0]</td>\n",
       "    </tr>\n",
       "    <tr>\n",
       "      <th>...</th>\n",
       "      <td>...</td>\n",
       "      <td>...</td>\n",
       "      <td>...</td>\n",
       "      <td>...</td>\n",
       "      <td>...</td>\n",
       "      <td>...</td>\n",
       "      <td>...</td>\n",
       "      <td>...</td>\n",
       "      <td>...</td>\n",
       "      <td>...</td>\n",
       "    </tr>\n",
       "    <tr>\n",
       "      <th>86</th>\n",
       "      <td>Deep Learning-Based Classification and Voxel-B...</td>\n",
       "      <td>n1487</td>\n",
       "      <td>2021.0</td>\n",
       "      <td>NaN</td>\n",
       "      <td>NaN</td>\n",
       "      <td>NaN</td>\n",
       "      <td>NaN</td>\n",
       "      <td>NaN</td>\n",
       "      <td>NaN</td>\n",
       "      <td>NaN</td>\n",
       "    </tr>\n",
       "    <tr>\n",
       "      <th>87</th>\n",
       "      <td>A Low-Cost Three-Dimensional DenseNet Neural N...</td>\n",
       "      <td>n1540</td>\n",
       "      <td>2021.0</td>\n",
       "      <td>NaN</td>\n",
       "      <td>NaN</td>\n",
       "      <td>NaN</td>\n",
       "      <td>NaN</td>\n",
       "      <td>NaN</td>\n",
       "      <td>NaN</td>\n",
       "      <td>NaN</td>\n",
       "    </tr>\n",
       "    <tr>\n",
       "      <th>88</th>\n",
       "      <td>Deep learning based Alzheimer's disease early ...</td>\n",
       "      <td>n106</td>\n",
       "      <td>NaN</td>\n",
       "      <td>NaN</td>\n",
       "      <td>NaN</td>\n",
       "      <td>NaN</td>\n",
       "      <td>NaN</td>\n",
       "      <td>NaN</td>\n",
       "      <td>NaN</td>\n",
       "      <td>NaN</td>\n",
       "    </tr>\n",
       "    <tr>\n",
       "      <th>89</th>\n",
       "      <td>A CNN based framework for classification of Al...</td>\n",
       "      <td>n348</td>\n",
       "      <td>NaN</td>\n",
       "      <td>NaN</td>\n",
       "      <td>NaN</td>\n",
       "      <td>NaN</td>\n",
       "      <td>NaN</td>\n",
       "      <td>NaN</td>\n",
       "      <td>NaN</td>\n",
       "      <td>NaN</td>\n",
       "    </tr>\n",
       "    <tr>\n",
       "      <th>90</th>\n",
       "      <td>Alzheimer's diagnosis using deep learning in s...</td>\n",
       "      <td>n767</td>\n",
       "      <td>NaN</td>\n",
       "      <td>NaN</td>\n",
       "      <td>NaN</td>\n",
       "      <td>NaN</td>\n",
       "      <td>NaN</td>\n",
       "      <td>NaN</td>\n",
       "      <td>NaN</td>\n",
       "      <td>NaN</td>\n",
       "    </tr>\n",
       "  </tbody>\n",
       "</table>\n",
       "<p>91 rows × 10 columns</p>\n",
       "</div>"
      ],
      "text/plain": [
       "                                               Titulo Autores     Ano  \\\n",
       "4   Non-white matter tissue extraction and deep co...    n333  2018.0   \n",
       "2   Deep Convolutional Neural Networks for Automat...    n148  2018.0   \n",
       "3   Early Detection of AlzheimerÍs Disease Using D...    n245  2018.0   \n",
       "0   3D Convolutional Neural Network and Stacked Bi...    n121  2018.0   \n",
       "1   A Novel Deep Learning Framework on Brain Funct...    n136  2018.0   \n",
       "..                                                ...     ...     ...   \n",
       "86  Deep Learning-Based Classification and Voxel-B...   n1487  2021.0   \n",
       "87  A Low-Cost Three-Dimensional DenseNet Neural N...   n1540  2021.0   \n",
       "88  Deep learning based Alzheimer's disease early ...    n106     NaN   \n",
       "89  A CNN based framework for classification of Al...    n348     NaN   \n",
       "90  Alzheimer's diagnosis using deep learning in s...    n767     NaN   \n",
       "\n",
       "                                    Instituicao    Imagem       Dataset  \\\n",
       "4                   Chonnam National University  MRI, PET          ADNI   \n",
       "2                      Georgia State University       MRI  ADNI, OASIS    \n",
       "3            Guangdong University of Technology       MRI          ADNI   \n",
       "0                           Shenzhen University  MRI, PET          ADNI   \n",
       "1   University of North Carolina at Chapel Hill       MRI          ADNI   \n",
       "..                                          ...       ...           ...   \n",
       "86                                          NaN       NaN           NaN   \n",
       "87                                          NaN       NaN           NaN   \n",
       "88                                          NaN       NaN           NaN   \n",
       "89                                          NaN       NaN           NaN   \n",
       "90                                          NaN       NaN           NaN   \n",
       "\n",
       "   Ranking/Neural               ROI Metricas            n Imagens  \n",
       "4          Neural  Other Anatomical        A     615[207-215-193]  \n",
       "2          Neural  Other Anatomical      NaN    1726[537-806-347]  \n",
       "3          Neural       whole brain      NaN  509[162-134-76-137]  \n",
       "0          Neural  Other Anatomical    A,S,R   397[100-128-76-93]  \n",
       "1          Neural  Other Anatomical    A,S,R       351[172-179-0]  \n",
       "..            ...               ...      ...                  ...  \n",
       "86            NaN               NaN      NaN                  NaN  \n",
       "87            NaN               NaN      NaN                  NaN  \n",
       "88            NaN               NaN      NaN                  NaN  \n",
       "89            NaN               NaN      NaN                  NaN  \n",
       "90            NaN               NaN      NaN                  NaN  \n",
       "\n",
       "[91 rows x 10 columns]"
      ]
     },
     "execution_count": 7,
     "metadata": {},
     "output_type": "execute_result"
    }
   ],
   "source": [
    "df.sort_values('Instituicao')"
   ]
  },
  {
   "cell_type": "code",
   "execution_count": 8,
   "metadata": {},
   "outputs": [
    {
     "name": "stderr",
     "output_type": "stream",
     "text": [
      "<ipython-input-8-dcf5eee964d0>:10: MatplotlibDeprecationWarning: savefig() got unexpected keyword argument \"square\" which is no longer supported as of 3.3 and will become an error two minor releases later\n",
      "  plt.savefig('relashion_'+ i.replace('/','-') +'_'+ j.replace('/','-') +'.eps',transparent=True, bbox_inches='tight', pad_inches=0,square=True)\n",
      "<ipython-input-8-dcf5eee964d0>:10: MatplotlibDeprecationWarning: savefig() got unexpected keyword argument \"square\" which is no longer supported as of 3.3 and will become an error two minor releases later\n",
      "  plt.savefig('relashion_'+ i.replace('/','-') +'_'+ j.replace('/','-') +'.eps',transparent=True, bbox_inches='tight', pad_inches=0,square=True)\n",
      "<ipython-input-8-dcf5eee964d0>:10: MatplotlibDeprecationWarning: savefig() got unexpected keyword argument \"square\" which is no longer supported as of 3.3 and will become an error two minor releases later\n",
      "  plt.savefig('relashion_'+ i.replace('/','-') +'_'+ j.replace('/','-') +'.eps',transparent=True, bbox_inches='tight', pad_inches=0,square=True)\n",
      "<ipython-input-8-dcf5eee964d0>:10: MatplotlibDeprecationWarning: savefig() got unexpected keyword argument \"square\" which is no longer supported as of 3.3 and will become an error two minor releases later\n",
      "  plt.savefig('relashion_'+ i.replace('/','-') +'_'+ j.replace('/','-') +'.eps',transparent=True, bbox_inches='tight', pad_inches=0,square=True)\n",
      "<ipython-input-8-dcf5eee964d0>:10: MatplotlibDeprecationWarning: savefig() got unexpected keyword argument \"square\" which is no longer supported as of 3.3 and will become an error two minor releases later\n",
      "  plt.savefig('relashion_'+ i.replace('/','-') +'_'+ j.replace('/','-') +'.eps',transparent=True, bbox_inches='tight', pad_inches=0,square=True)\n",
      "<ipython-input-8-dcf5eee964d0>:10: MatplotlibDeprecationWarning: savefig() got unexpected keyword argument \"square\" which is no longer supported as of 3.3 and will become an error two minor releases later\n",
      "  plt.savefig('relashion_'+ i.replace('/','-') +'_'+ j.replace('/','-') +'.eps',transparent=True, bbox_inches='tight', pad_inches=0,square=True)\n"
     ]
    },
    {
     "data": {
      "text/plain": [
       "<Figure size 1440x864 with 0 Axes>"
      ]
     },
     "metadata": {},
     "output_type": "display_data"
    },
    {
     "data": {
      "image/png": "[encoded data removed]",
      "text/plain": [
       "<Figure size 432x288 with 2 Axes>"
      ]
     },
     "metadata": {
      "needs_background": "light"
     },
     "output_type": "display_data"
    },
    {
     "data": {
      "image/png": "[encoded data removed]",
      "text/plain": [
       "<Figure size 432x288 with 2 Axes>"
      ]
     },
     "metadata": {
      "needs_background": "light"
     },
     "output_type": "display_data"
    },
    {
     "data": {
      "image/png": "[encoded data removed]",
      "text/plain": [
       "<Figure size 432x288 with 2 Axes>"
      ]
     },
     "metadata": {
      "needs_background": "light"
     },
     "output_type": "display_data"
    },
    {
     "data": {
      "image/png": "[encoded data removed]",
      "text/plain": [
       "<Figure size 432x288 with 2 Axes>"
      ]
     },
     "metadata": {
      "needs_background": "light"
     },
     "output_type": "display_data"
    },
    {
     "data": {
      "image/png": "[encoded data removed]",
      "text/plain": [
       "<Figure size 432x288 with 2 Axes>"
      ]
     },
     "metadata": {
      "needs_background": "light"
     },
     "output_type": "display_data"
    },
    {
     "data": {
      "image/png": "[encoded data removed]",
      "text/plain": [
       "<Figure size 432x288 with 2 Axes>"
      ]
     },
     "metadata": {
      "needs_background": "light"
     },
     "output_type": "display_data"
    }
   ],
   "source": [
    "#creating manually a pairplot\n",
    "dataForIteration = ['Metricas', 'Dataset', 'Ranking/Neural', 'Imagem']\n",
    "ax = plt.figure(figsize=(20, 12))\n",
    "counter = 1\n",
    "for iidx,i in enumerate(dataForIteration):\n",
    "    for j in dataForIteration[iidx+1:]:\n",
    "        plt.figure()\n",
    "        sns.heatmap(pd.crosstab(df[i],df[j]),cmap='binary',annot=True,  annot_kws={\"size\":12})\n",
    "        plt.axis('on')\n",
    "        plt.savefig('relashion_'+ i.replace('/','-') +'_'+ j.replace('/','-') +'.eps',transparent=True, bbox_inches='tight', pad_inches=0,square=True)\n",
    "        \n",
    "        \n",
    "        #plt.subplot(4, 4, counter)\n",
    "        #if i != j:\n",
    "            #if (counter == 13):\n",
    "            #    sns.heatmap(pd.crosstab(df[i],df[j]),cmap='binary',annot=True)\n",
    "            #elif( counter in (1,5,9)):\n",
    "            #    sns.heatmap(pd.crosstab(df[i],df[j]),cmap='binary',xticklabels=False,annot=True)\n",
    "            #elif(counter in (14,15,16)):\n",
    "            #    sns.heatmap(pd.crosstab(df[i],df[j]),cmap='Greys', yticklabels=False,annot=True)\n",
    "            #else:\n",
    "            #    sns.heatmap(pd.crosstab(df[i],df[j]),cmap='Greys',xticklabels=False, yticklabels=False,annot=True)\n",
    "        ##else:\n",
    "            ##plt.hist(df[i])\n",
    "        #counter = counter + 1\n",
    "##sns.heatmap(pd.crosstab(df['Dataset'],df['Imagem']),cmap='coolwarm')\n",
    "\n",
    "\n",
    "#for i in range(1, 7):\n",
    "\n",
    "    #plt.text(0.5, 0.5, str((2, 3, i)),\n",
    "    #         fontsize=18, ha='center')\n",
    "\n"
   ]
  },
  {
   "cell_type": "code",
   "execution_count": 9,
   "metadata": {},
   "outputs": [
    {
     "data": {
      "text/plain": [
       "<BarContainer object of 2 artists>"
      ]
     },
     "execution_count": 9,
     "metadata": {},
     "output_type": "execute_result"
    },
    {
     "data": {
      "image/png": "[encoded data removed]",
      "text/plain": [
       "<Figure size 432x288 with 1 Axes>"
      ]
     },
     "metadata": {
      "needs_background": "light"
     },
     "output_type": "display_data"
    }
   ],
   "source": [
    "plt.bar(range(len(df['Dataset'].value_counts().index)),df['Dataset'].value_counts())"
   ]
  },
  {
   "cell_type": "code",
   "execution_count": 10,
   "metadata": {},
   "outputs": [
    {
     "data": {
      "image/png": "[encoded data removed]",
      "text/plain": [
       "<Figure size 432x288 with 1 Axes>"
      ]
     },
     "metadata": {},
     "output_type": "display_data"
    },
    {
     "data": {
      "image/png": "[encoded data removed]",
      "text/plain": [
       "<Figure size 432x288 with 1 Axes>"
      ]
     },
     "metadata": {},
     "output_type": "display_data"
    },
    {
     "data": {
      "image/png": "[encoded data removed]",
      "text/plain": [
       "<Figure size 432x288 with 1 Axes>"
      ]
     },
     "metadata": {},
     "output_type": "display_data"
    },
    {
     "data": {
      "image/png": "[encoded data removed]",
      "text/plain": [
       "<Figure size 432x288 with 1 Axes>"
      ]
     },
     "metadata": {},
     "output_type": "display_data"
    }
   ],
   "source": [
    "attribute = 'Metricas'\n",
    "#Metricas Dataset Ranking/Neural Imagem\n",
    "def make_disp(label,value):\n",
    "    return label+' ('+value+')'\n",
    "\n",
    "dataForIteration = ['Metricas', 'Dataset', 'Ranking/Neural', 'Imagem']\n",
    "\n",
    "for data in dataForIteration:\n",
    "    plt.figure()\n",
    "    colors1 = np.array([[1, 1, 1],[0, 0, 0],[0.5, 0.5, 0.5],[0.2, 0.2, 0.2],\n",
    "                        [0.8, 0.8, 0.8],[0.4, 0.4, 0.4],[0.7, 0.7, 0.7],[0.3, 0.3, 0.3],\n",
    "                        [0.6, 0.6, 0.6],[0.1, 0.1, 0.1],[0.9,0.9,0.9]])\n",
    "\n",
    "    labels = df[data].value_counts().keys()\n",
    "    sizes = df[data].value_counts()\n",
    "\n",
    "    #patterns = ('.','-', '+', 'x', '\\\\', '*', 'o', 'O','o','\\\\')\n",
    "    patches, texts = plt.pie(sizes ,labels = labels + ' (' + sizes.astype(str)+')',startangle=40,colors=['white']*len(sizes))\n",
    "    #for patch, pattern in zip(patches,patterns):\n",
    "       # patch.set_hatch(pattern)\n",
    "    #    patch.set_linewidth(1)\n",
    "    #    patch.set_edgecolor('black')\n",
    "\n",
    "    for patch in patches:\n",
    "        patch.set_linewidth(1)\n",
    "        patch.set_edgecolor('black')\n",
    "    plt.axis('equal')\n",
    "    plt.tight_layout()\n",
    "    #plt.show()\n",
    "    plt.axis('on')\n",
    "    plt.rcParams['font.size'] = 17.0\n",
    "    plt.tight_layout()\n",
    "    plt.savefig('pizza'+data.replace('/','-')+'.jpg',transparent=True, bbox_inches='tight', pad_inches=0)\n",
    "    "
   ]
  },
  {
   "cell_type": "code",
   "execution_count": 16,
   "metadata": {},
   "outputs": [
    {
     "data": {
      "image/png": "[encoded data removed]",
      "text/plain": [
       "<Figure size 1440x864 with 1 Axes>"
      ]
     },
     "metadata": {
      "needs_background": "light"
     },
     "output_type": "display_data"
    }
   ],
   "source": [
    "#plot qtdImages\n",
    "\n",
    "level_nc = []\n",
    "level_mci = []\n",
    "level_ad = []\n",
    "level_ncmci = []\n",
    "level_cmci = []\n",
    "unknown = []\n",
    "total_value = []\n",
    "\n",
    "for line in df['n Imagens']:\n",
    "    if pd.isnull(line):\n",
    "        break\n",
    "    cropped = line.split('[')\n",
    "    if len(cropped) == 1:\n",
    "        val_nc = val_mci = val_ad = val_ncmci = val_cmci = 0\n",
    "        val_ukn= int(cropped[0])\n",
    "        \n",
    "        #print(val_nc,\"   \",val_mci,\"   \",val_ad,\"   \",val_ncmci,\"   \",val_cmci,\"   \",int(val_ukn[0]),'\\n')\n",
    "    else:\n",
    "        stages = cropped[1].replace(']','').split('-')\n",
    "        if len(stages) == 3:\n",
    "            val_nc = int(stages[0])\n",
    "            val_mci = int(stages[1])\n",
    "            val_ad = int(stages[2])\n",
    "            val_ncmci = val_cmci = val_ukn = 0\n",
    "            #print(val_nc,\"   \",val_mci,\"   \",val_ad,\"   \",val_ncmci,\"   \",val_cmci,\"   \",val_ukn,'\\n')\n",
    "        else:\n",
    "            val_nc = int(stages[0])\n",
    "            val_ncmci = int(stages[1])\n",
    "            val_cmci = int(stages[2])\n",
    "            val_ad = int(stages[3])\n",
    "            val_mci = val_ukn = 0\n",
    "            #print(val_nc,\"   \",val_mci,\"   \",val_ad,\"   \",val_ncmci,\"   \",val_cmci,\"   \",val_ukn,'\\n')\n",
    "    val_total = val_nc+val_mci+val_ad+val_ncmci+val_cmci+val_ukn\n",
    "    level_nc.append(val_nc)\n",
    "    level_mci.append(val_mci)\n",
    "    level_ad.append(val_ad)\n",
    "    level_ncmci.append(val_ncmci)\n",
    "    level_cmci.append(val_cmci)\n",
    "    unknown.append(val_ukn)\n",
    "    total_value.append(val_total)\n",
    "    \n",
    "\n",
    "level_nc    = np.reshape(np.array(level_nc),(len(level_nc),1))\n",
    "level_mci   = np.reshape(np.array(level_mci),(len(level_nc),1))\n",
    "level_ad    = np.reshape(np.array(level_ad),(len(level_nc),1))\n",
    "level_ncmci = np.reshape(np.array(level_ncmci),(len(level_nc),1))\n",
    "level_cmci  = np.reshape(np.array(level_cmci),(len(level_nc),1))\n",
    "unknown     = np.reshape(np.array(unknown),(len(level_nc),1))\n",
    "total_value = np.array(total_value)\n",
    "\n",
    "y = np.concatenate((level_nc,level_mci,level_ncmci,level_cmci,level_ad,unknown),axis=1)\n",
    "dfx = pd.DataFrame(y,columns=['NC','MCI','ncMCI','cMCI','AD','Unknown'])\n",
    "dfx = dfx.reindex(dfx.sum(axis=1).sort_values().index)\n",
    "\n",
    "\n",
    "ax = plt.figure(figsize=(20, 12)).add_subplot(111)\n",
    "dfx.plot(ax=ax,kind='bar',color='white', stacked=True,zorder=3)\n",
    "#ax.set_yscale('log',basey=2)\n",
    "bars = ax.patches\n",
    "patterns =(' ', '/','o','.',' ',' ')\n",
    "\n",
    "#colors  = ('red','blue','green','yellow','purple','gray') \n",
    "colors = np.array([[1, 1, 1],[0.9, 0.9, 0.9],[0.9, 0.9, 0.9],[0.9, 0.9, 0.9],[0, 0, 0],[0.5, 0.5, 0.5]])\n",
    "hatches = [p for p in patterns for i in range(len(dfx))]\n",
    "colors  = [p for p in colors for i in range(len(dfx))]\n",
    "\n",
    "for bar, hatch, color in zip(bars, hatches, colors):\n",
    "    bar.set_edgecolor(color='black')\n",
    "    bar.set_facecolor(color=color)\n",
    "    bar.set_hatch(hatch)\n",
    "\n",
    "total_value.sort()    \n",
    "for i in range(0,len(level_cmci)):\n",
    "    label = str(total_value[i])\n",
    "    if(total_value[i]-10**2 < 0):\n",
    "        plt.text(i-0.2,total_value[i]+20,label)\n",
    "    elif(total_value[i]-10**3 < 0):\n",
    "        plt.text(i-0.3,total_value[i]+20,label)\n",
    "    else:\n",
    "        plt.text(i-0.5,total_value[i]+20,label)\n",
    "ax.yaxis.grid()\n",
    "ax.legend(loc='center right', bbox_to_anchor=(0.15, 0.85), fontsize=17.5)\n",
    "p = ax.set_xticklabels((('['+str(x)+']') for x in range(1,len(level_mci)+1)))\n",
    "ax.set_xlabel('Works', fontsize=22)\n",
    "ax.set_ylabel('#Images', fontsize=22)\n",
    "ax.tick_params(labelsize=22)    \n",
    "\n",
    "plt.axis('on')\n",
    "plt.savefig('sizeDatasets.jpg',transparent=True, bbox_inches='tight', pad_inches=0)"
   ]
  },
  {
   "cell_type": "code",
   "execution_count": 17,
   "metadata": {},
   "outputs": [
    {
     "name": "stdout",
     "output_type": "stream",
     "text": [
      "509.0   351   712.4\n"
     ]
    }
   ],
   "source": [
    "median = np.median(total_value)\n",
    "mode = int(stats.mode(total_value).mode)\n",
    "avg = total_value.mean()\n",
    "print(median, ' ', mode, ' ', avg)"
   ]
  },
  {
   "cell_type": "code",
   "execution_count": 18,
   "metadata": {},
   "outputs": [
    {
     "ename": "ModuleNotFoundError",
     "evalue": "No module named 'reportlab'",
     "output_type": "error",
     "traceback": [
      "\u001b[0;31m---------------------------------------------------------------------------\u001b[0m",
      "\u001b[0;31mModuleNotFoundError\u001b[0m                       Traceback (most recent call last)",
      "\u001b[0;32m<ipython-input-18-980e30dbc5fd>\u001b[0m in \u001b[0;36m<module>\u001b[0;34m\u001b[0m\n\u001b[0;32m----> 1\u001b[0;31m \u001b[0;32mfrom\u001b[0m \u001b[0mreportlab\u001b[0m\u001b[0;34m.\u001b[0m\u001b[0mlib\u001b[0m \u001b[0;32mimport\u001b[0m \u001b[0mcolors\u001b[0m\u001b[0;34m\u001b[0m\u001b[0;34m\u001b[0m\u001b[0m\n\u001b[0m\u001b[1;32m      2\u001b[0m \u001b[0;32mfrom\u001b[0m \u001b[0mreportlab\u001b[0m\u001b[0;34m.\u001b[0m\u001b[0mlib\u001b[0m\u001b[0;34m.\u001b[0m\u001b[0mpagesizes\u001b[0m \u001b[0;32mimport\u001b[0m \u001b[0mletter\u001b[0m\u001b[0;34m\u001b[0m\u001b[0;34m\u001b[0m\u001b[0m\n\u001b[1;32m      3\u001b[0m \u001b[0;32mfrom\u001b[0m \u001b[0mreportlab\u001b[0m\u001b[0;34m.\u001b[0m\u001b[0mplatypus\u001b[0m \u001b[0;32mimport\u001b[0m \u001b[0mSimpleDocTemplate\u001b[0m\u001b[0;34m,\u001b[0m \u001b[0mTable\u001b[0m\u001b[0;34m,\u001b[0m \u001b[0mTableStyle\u001b[0m\u001b[0;34m,\u001b[0m \u001b[0mParagraph\u001b[0m\u001b[0;34m\u001b[0m\u001b[0;34m\u001b[0m\u001b[0m\n\u001b[1;32m      4\u001b[0m \u001b[0;32mfrom\u001b[0m \u001b[0mreportlab\u001b[0m\u001b[0;34m.\u001b[0m\u001b[0mlib\u001b[0m\u001b[0;34m.\u001b[0m\u001b[0mstyles\u001b[0m \u001b[0;32mimport\u001b[0m \u001b[0mParagraphStyle\u001b[0m\u001b[0;34m\u001b[0m\u001b[0;34m\u001b[0m\u001b[0m\n\u001b[1;32m      5\u001b[0m \u001b[0;32mfrom\u001b[0m \u001b[0mreportlab\u001b[0m\u001b[0;34m.\u001b[0m\u001b[0mlib\u001b[0m\u001b[0;34m.\u001b[0m\u001b[0menums\u001b[0m \u001b[0;32mimport\u001b[0m \u001b[0mTA_JUSTIFY\u001b[0m\u001b[0;34m,\u001b[0m\u001b[0mTA_LEFT\u001b[0m\u001b[0;34m,\u001b[0m\u001b[0mTA_CENTER\u001b[0m\u001b[0;34m,\u001b[0m\u001b[0mTA_RIGHT\u001b[0m\u001b[0;34m\u001b[0m\u001b[0;34m\u001b[0m\u001b[0m\n",
      "\u001b[0;31mModuleNotFoundError\u001b[0m: No module named 'reportlab'"
     ]
    }
   ],
   "source": [
    "from reportlab.lib import colors\n",
    "from reportlab.lib.pagesizes import letter\n",
    "from reportlab.platypus import SimpleDocTemplate, Table, TableStyle, Paragraph\n",
    "from reportlab.lib.styles import ParagraphStyle\n",
    "from reportlab.lib.enums import TA_JUSTIFY,TA_LEFT,TA_CENTER,TA_RIGHT\n",
    "doc = SimpleDocTemplate(\"Alzheimers Report.pdf\", pagesize=letter)\n",
    "\n",
    "elements = []\n",
    "p = ParagraphStyle('parrafos',\n",
    "                   fontSize = 10,\n",
    "                   fontName=\"Times-Roman\")\n",
    "pred = ParagraphStyle('parrafos',\n",
    "                   fontSize = 10,\n",
    "                   fontName=\"Times-Roman\",\n",
    "                   textColor=colors.red)\n",
    "p1 = ParagraphStyle('parrafos',\n",
    "                   fontSize = 12,\n",
    "                   fontName=\"Times-Roman\",\n",
    "                   alignment = TA_CENTER)\n",
    "pfoot = ParagraphStyle('parrafos',\n",
    "                   fontSize = 9,\n",
    "                   fontName=\"Times-Roman\",\n",
    "                   alignment = TA_CENTER)\n",
    "\n",
    "#t=Table(data)\n",
    "#t.setStyle(TableStyle([('BACKGROUND',(1,1),(-2,-2),colors.green),\n",
    "#                       ('TEXTCOLOR',(0,0),(1,-1),colors.red)]))\n",
    "matrix = np.array(df)\n",
    "count = 0\n",
    "\n",
    "for line in matrix:\n",
    "    \n",
    "    elements.append(Paragraph(\"<br/>\"+str(line[1]) + \" - \" + str(line[3]) + \"<br/>\", p1))\n",
    "    elements.append(Paragraph(str(line[4]) + \"<br/>\", pfoot))\n",
    "    \n",
    "    elements.append(Paragraph(\"Problema: \",pred))\n",
    "    elements.append(Paragraph(str(line[5]) + \"<br/>\", p))\n",
    "    elements.append(Paragraph('Contribuição: ',pred))\n",
    "    elements.append(Paragraph(str(line[6]) + \"<br/>\", p))\n",
    "    elements.append(Paragraph('Resultado: ',pred))\n",
    "    elements.append(Paragraph(str(line[7]) + \"<br/>\", p))\n",
    "    elements.append(Paragraph('Fluxo: ',pred))\n",
    "    elements.append(Paragraph(str(line[8]) + \"<br/>\", p))\n",
    "    elements.append(Paragraph('Metodologia: ',pred))\n",
    "    elements.append(Paragraph(str(line[9]) + \"<br/>\", p))    \n",
    "    elements.append(Paragraph('Relevancia: ',pred))\n",
    "    elements.append(Paragraph(str(line[10]) + \"<br/>\", p))\n",
    "    elements.append(Paragraph('Imagem: ',pred))\n",
    "    elements.append(Paragraph(str(line[11]) +', Dataset: '+line[12] + \"<br/>\", p))\n",
    "    elements.append(Paragraph('Ranking/Neural: ',pred))\n",
    "    elements.append(Paragraph(str(line[13]) + \"<br/>\", p))\n",
    "    elements.append(Paragraph('ROI: ',pred))\n",
    "    elements.append(Paragraph(str(line[14]) + \"<br/>\", p))\n",
    "    elements.append(Paragraph('Metricas: ',pred))\n",
    "    elements.append(Paragraph(str(line[15]) + \"<br/>\", p))\n",
    "    elements.append(Paragraph('Resultado Valores: ',pred))\n",
    "    elements.append(Paragraph(str(line[16]) + \"<br/>\", p))\n",
    "    elements.append(Paragraph('Divisão Avaliação: ',pred))    \n",
    "    elements.append(Paragraph(str(line[17]) + \"<br/>\", p))\n",
    "    #break;\n",
    "# write the document to disk\n",
    "doc.build(elements)"
   ]
  },
  {
   "cell_type": "code",
   "execution_count": 25,
   "metadata": {},
   "outputs": [
    {
     "name": "stderr",
     "output_type": "stream",
     "text": [
      "<ipython-input-25-22fa130c0348>:71: UserWarning: FixedFormatter should only be used together with FixedLocator\n",
      "  p = ax.set_xticklabels(\"a Accuracy Specificity Recall F1-score Precision MAP\".split(\" \"))\n"
     ]
    },
    {
     "data": {
      "image/png": "[encoded data removed]",
      "text/plain": [
       "<Figure size 864x576 with 1 Axes>"
      ]
     },
     "metadata": {
      "needs_background": "light"
     },
     "output_type": "display_data"
    }
   ],
   "source": [
    "plt.rcParams['font.size'] = 8.0\n",
    "\n",
    "#importing list of results and convert nan to 0\n",
    "df_results = pd.read_csv(\"resultadosPlotAtualizado20182021.csv\", sep=';', encoding='latin-1')\n",
    "df_results.fillna(value=0,inplace=True)\n",
    "mat_QttResults = np.array(df_results)\n",
    "mat_QttResults = np.nan_to_num(mat_QttResults)\n",
    "\n",
    "#create a list of indexes for ranking and neural\n",
    "neural_idx = list()\n",
    "ranking_idx = list()\n",
    "for ndx, member in enumerate(mat_QttResults[0][2:]):\n",
    "    if member == 1.:\n",
    "        neural_idx.append(ndx);\n",
    "    else:\n",
    "        ranking_idx.append(ndx);\n",
    "\n",
    "mat_QttResults = mat_QttResults[1:,2:]\n",
    "\n",
    "neural_results =  mat_QttResults[:,neural_idx]\n",
    "ranking_results =  mat_QttResults[:,ranking_idx]\n",
    "\n",
    "#data1 = mat_QttResults\n",
    "\n",
    "colors = np.array([[1, 0, 0],[0, 1, 0],[0, 0, 1],[1, 1, 0],\n",
    "                    [1, 0, 0],[0, 1, 0],[0, 0, 1],[1, 1, 0],\n",
    "                    [1, 0, 0],[0, 1, 0],[0, 0, 1],[1, 1, 0],\n",
    "                    [1, 0, 0],[0, 1, 0],[0, 0, 1],[1, 1, 0],\n",
    "                    [1, 0, 0],[0, 1, 0],[0, 0, 1],[1, 1, 0],\n",
    "                    [1, 0, 0],[0, 1, 0],[0, 0, 1],[1, 1, 0]\n",
    "                   ])\n",
    "\n",
    "\n",
    "lineoffsets1 = np.array([-16, -16, -16, -16, \n",
    "                         -11, -11, -11, -11,\n",
    "                         -6, -6, -6, -6, \n",
    "                         -1, -1, -1, -1,  \n",
    "                         4, 4, 4, 4, \n",
    "                         9, 9, 9, 9\n",
    "                        ])\n",
    "\n",
    "lineoffsets2 = np.array([-14, -14, -14, -14, \n",
    "                         -9, -9, -9, -9,\n",
    "                         -4, -4, -4, -4, \n",
    "                         1, 1, 1, 1,  \n",
    "                         6, 6, 6, 6, \n",
    "                         11, 11, 11, 11\n",
    "                        ])\n",
    "linelengths = np.ones(24)*2\n",
    "\n",
    "fig, ax = plt.subplots(1,figsize=(12,8))\n",
    "\n",
    "\n",
    "# Add the patch to the Axes\n",
    "\n",
    "plt.eventplot(neural_results, colors=colors, lineoffsets=lineoffsets1,\n",
    "                    linelengths=linelengths, orientation='vertical')\n",
    "plt.eventplot(ranking_results, colors=colors, lineoffsets=lineoffsets2,\n",
    "                    linelengths=linelengths, orientation='vertical')\n",
    "\n",
    "for i in range(6):\n",
    "    rect = Rectangle(((i*5-17.1),-0.2),4.2,100.4,linewidth=2,edgecolor='k',facecolor='none')\n",
    "    plt.text(5*i-16.9,-4,'Neural',fontsize=12)\n",
    "    plt.text(5*i-14.6,-4,'CBIR',fontsize=12)\n",
    "    ax.add_patch(rect)\n",
    "    ln = patches.mlines.Line2D([(i*5-17.1),(i*5-12.9)],[-0.2,-0.2],2,color='k')\n",
    "    ax.add_line(ln)\n",
    "    #fig.patches.extend([plt.Rectangle(((i*5-17),0),4,100,linewidth=2,edgecolor='k',facecolor='none')])\n",
    "\n",
    "#ax.legend(loc='center right', bbox_to_anchor=(1, 1), ncol=6, fontsize=17.5)\n",
    "p = ax.set_xticklabels(\"a Accuracy Specificity Recall F1-score Precision MAP\".split(\" \"))\n",
    "ax.set_xlabel('Metrics', fontsize=16)\n",
    "ax.set_ylabel('Percentage', fontsize=16)\n",
    "ax.tick_params(labelsize=16)    \n",
    "plt.xlim(-18, 13) \n",
    "plt.ylim(-6,110)\n",
    "ax.legend(handles=[ patches.Patch(color='red', label='Multiclass'),\n",
    "                     patches.Patch(color='green', label='AD vs MCI'),\n",
    "                     patches.Patch(color='blue', label='AD vs NC'),\n",
    "                     patches.Patch(color='yellow', label='MCI vs NC')\n",
    "                   ],loc='center right', bbox_to_anchor=(0.9, 0.96), ncol=6, fontsize=14)\n",
    "#ax.legend(loc='center right', bbox_to_anchor=(1, 1), ncol=6, fontsize=17.5)\n",
    "#plt.show()\n",
    "plt.axis('on')\n",
    "plt.savefig('results.jpg',transparent=True, bbox_inches='tight', pad_inches=0)"
   ]
  },
  {
   "cell_type": "code",
   "execution_count": 26,
   "metadata": {},
   "outputs": [
    {
     "data": {
      "text/html": [
       "<div>\n",
       "<style scoped>\n",
       "    .dataframe tbody tr th:only-of-type {\n",
       "        vertical-align: middle;\n",
       "    }\n",
       "\n",
       "    .dataframe tbody tr th {\n",
       "        vertical-align: top;\n",
       "    }\n",
       "\n",
       "    .dataframe thead th {\n",
       "        text-align: right;\n",
       "    }\n",
       "</style>\n",
       "<table border=\"1\" class=\"dataframe\">\n",
       "  <thead>\n",
       "    <tr style=\"text-align: right;\">\n",
       "      <th></th>\n",
       "      <th>Work</th>\n",
       "      <th>Work.1</th>\n",
       "      <th>n121</th>\n",
       "      <th>n136</th>\n",
       "      <th>n333</th>\n",
       "    </tr>\n",
       "  </thead>\n",
       "  <tbody>\n",
       "    <tr>\n",
       "      <th>0</th>\n",
       "      <td>What</td>\n",
       "      <td>Method</td>\n",
       "      <td>1.00</td>\n",
       "      <td>1.00</td>\n",
       "      <td>1.0</td>\n",
       "    </tr>\n",
       "    <tr>\n",
       "      <th>1</th>\n",
       "      <td>Accuracy</td>\n",
       "      <td>MultiClass</td>\n",
       "      <td>0.00</td>\n",
       "      <td>0.00</td>\n",
       "      <td>0.0</td>\n",
       "    </tr>\n",
       "    <tr>\n",
       "      <th>2</th>\n",
       "      <td>Accuracy</td>\n",
       "      <td>AD vs MCI</td>\n",
       "      <td>0.00</td>\n",
       "      <td>0.00</td>\n",
       "      <td>93.0</td>\n",
       "    </tr>\n",
       "    <tr>\n",
       "      <th>3</th>\n",
       "      <td>Accuracy</td>\n",
       "      <td>AD vs NC</td>\n",
       "      <td>94.29</td>\n",
       "      <td>0.00</td>\n",
       "      <td>98.8</td>\n",
       "    </tr>\n",
       "    <tr>\n",
       "      <th>4</th>\n",
       "      <td>Accuracy</td>\n",
       "      <td>MCI vs NC</td>\n",
       "      <td>64.47</td>\n",
       "      <td>74.23</td>\n",
       "      <td>95.0</td>\n",
       "    </tr>\n",
       "    <tr>\n",
       "      <th>5</th>\n",
       "      <td>Specificity</td>\n",
       "      <td>MultiClass</td>\n",
       "      <td>0.00</td>\n",
       "      <td>0.00</td>\n",
       "      <td>0.0</td>\n",
       "    </tr>\n",
       "    <tr>\n",
       "      <th>6</th>\n",
       "      <td>Specificity</td>\n",
       "      <td>AD vs MCI</td>\n",
       "      <td>0.00</td>\n",
       "      <td>0.00</td>\n",
       "      <td>0.0</td>\n",
       "    </tr>\n",
       "    <tr>\n",
       "      <th>7</th>\n",
       "      <td>Specificity</td>\n",
       "      <td>AD vs NC</td>\n",
       "      <td>92.38</td>\n",
       "      <td>0.00</td>\n",
       "      <td>0.0</td>\n",
       "    </tr>\n",
       "    <tr>\n",
       "      <th>8</th>\n",
       "      <td>Specificity</td>\n",
       "      <td>MCI vs NC</td>\n",
       "      <td>48.41</td>\n",
       "      <td>72.92</td>\n",
       "      <td>0.0</td>\n",
       "    </tr>\n",
       "    <tr>\n",
       "      <th>9</th>\n",
       "      <td>Recall</td>\n",
       "      <td>MultiClass</td>\n",
       "      <td>0.00</td>\n",
       "      <td>0.00</td>\n",
       "      <td>0.0</td>\n",
       "    </tr>\n",
       "    <tr>\n",
       "      <th>10</th>\n",
       "      <td>Recall</td>\n",
       "      <td>AD vs MCI</td>\n",
       "      <td>0.00</td>\n",
       "      <td>0.00</td>\n",
       "      <td>0.0</td>\n",
       "    </tr>\n",
       "    <tr>\n",
       "      <th>11</th>\n",
       "      <td>Recall</td>\n",
       "      <td>AD vs NC</td>\n",
       "      <td>96.59</td>\n",
       "      <td>0.00</td>\n",
       "      <td>0.0</td>\n",
       "    </tr>\n",
       "    <tr>\n",
       "      <th>12</th>\n",
       "      <td>Recall</td>\n",
       "      <td>MCI vs NC</td>\n",
       "      <td>70.43</td>\n",
       "      <td>75.51</td>\n",
       "      <td>0.0</td>\n",
       "    </tr>\n",
       "    <tr>\n",
       "      <th>13</th>\n",
       "      <td>F1score</td>\n",
       "      <td>MultiClass</td>\n",
       "      <td>0.00</td>\n",
       "      <td>0.00</td>\n",
       "      <td>0.0</td>\n",
       "    </tr>\n",
       "    <tr>\n",
       "      <th>14</th>\n",
       "      <td>F1score</td>\n",
       "      <td>AD vs MCI</td>\n",
       "      <td>0.00</td>\n",
       "      <td>0.00</td>\n",
       "      <td>0.0</td>\n",
       "    </tr>\n",
       "    <tr>\n",
       "      <th>15</th>\n",
       "      <td>F1score</td>\n",
       "      <td>AD vs NC</td>\n",
       "      <td>0.00</td>\n",
       "      <td>0.00</td>\n",
       "      <td>0.0</td>\n",
       "    </tr>\n",
       "    <tr>\n",
       "      <th>16</th>\n",
       "      <td>F1score</td>\n",
       "      <td>MCI vs NC</td>\n",
       "      <td>0.00</td>\n",
       "      <td>0.00</td>\n",
       "      <td>0.0</td>\n",
       "    </tr>\n",
       "    <tr>\n",
       "      <th>17</th>\n",
       "      <td>Precision</td>\n",
       "      <td>MultiClass</td>\n",
       "      <td>0.00</td>\n",
       "      <td>0.00</td>\n",
       "      <td>0.0</td>\n",
       "    </tr>\n",
       "    <tr>\n",
       "      <th>18</th>\n",
       "      <td>Precision</td>\n",
       "      <td>AD vs MCI</td>\n",
       "      <td>0.00</td>\n",
       "      <td>0.00</td>\n",
       "      <td>0.0</td>\n",
       "    </tr>\n",
       "    <tr>\n",
       "      <th>19</th>\n",
       "      <td>Precision</td>\n",
       "      <td>AD vs NC</td>\n",
       "      <td>0.00</td>\n",
       "      <td>0.00</td>\n",
       "      <td>0.0</td>\n",
       "    </tr>\n",
       "    <tr>\n",
       "      <th>20</th>\n",
       "      <td>Precision</td>\n",
       "      <td>MCI vs NC</td>\n",
       "      <td>0.00</td>\n",
       "      <td>0.00</td>\n",
       "      <td>0.0</td>\n",
       "    </tr>\n",
       "    <tr>\n",
       "      <th>21</th>\n",
       "      <td>MAP</td>\n",
       "      <td>MultiClass</td>\n",
       "      <td>0.00</td>\n",
       "      <td>0.00</td>\n",
       "      <td>0.0</td>\n",
       "    </tr>\n",
       "    <tr>\n",
       "      <th>22</th>\n",
       "      <td>MAP</td>\n",
       "      <td>AD vs MCI</td>\n",
       "      <td>0.00</td>\n",
       "      <td>0.00</td>\n",
       "      <td>0.0</td>\n",
       "    </tr>\n",
       "    <tr>\n",
       "      <th>23</th>\n",
       "      <td>MAP</td>\n",
       "      <td>AD vs NC</td>\n",
       "      <td>0.00</td>\n",
       "      <td>0.00</td>\n",
       "      <td>0.0</td>\n",
       "    </tr>\n",
       "    <tr>\n",
       "      <th>24</th>\n",
       "      <td>MAP</td>\n",
       "      <td>MCI vs NC</td>\n",
       "      <td>0.00</td>\n",
       "      <td>0.00</td>\n",
       "      <td>0.0</td>\n",
       "    </tr>\n",
       "  </tbody>\n",
       "</table>\n",
       "</div>"
      ],
      "text/plain": [
       "           Work      Work.1   n121   n136  n333\n",
       "0          What      Method   1.00   1.00   1.0\n",
       "1      Accuracy  MultiClass   0.00   0.00   0.0\n",
       "2      Accuracy   AD vs MCI   0.00   0.00  93.0\n",
       "3      Accuracy    AD vs NC  94.29   0.00  98.8\n",
       "4      Accuracy   MCI vs NC  64.47  74.23  95.0\n",
       "5   Specificity  MultiClass   0.00   0.00   0.0\n",
       "6   Specificity   AD vs MCI   0.00   0.00   0.0\n",
       "7   Specificity    AD vs NC  92.38   0.00   0.0\n",
       "8   Specificity   MCI vs NC  48.41  72.92   0.0\n",
       "9        Recall  MultiClass   0.00   0.00   0.0\n",
       "10       Recall   AD vs MCI   0.00   0.00   0.0\n",
       "11       Recall    AD vs NC  96.59   0.00   0.0\n",
       "12       Recall   MCI vs NC  70.43  75.51   0.0\n",
       "13      F1score  MultiClass   0.00   0.00   0.0\n",
       "14      F1score   AD vs MCI   0.00   0.00   0.0\n",
       "15      F1score    AD vs NC   0.00   0.00   0.0\n",
       "16      F1score   MCI vs NC   0.00   0.00   0.0\n",
       "17    Precision  MultiClass   0.00   0.00   0.0\n",
       "18    Precision   AD vs MCI   0.00   0.00   0.0\n",
       "19    Precision    AD vs NC   0.00   0.00   0.0\n",
       "20    Precision   MCI vs NC   0.00   0.00   0.0\n",
       "21          MAP  MultiClass   0.00   0.00   0.0\n",
       "22          MAP   AD vs MCI   0.00   0.00   0.0\n",
       "23          MAP    AD vs NC   0.00   0.00   0.0\n",
       "24          MAP   MCI vs NC   0.00   0.00   0.0"
      ]
     },
     "execution_count": 26,
     "metadata": {},
     "output_type": "execute_result"
    }
   ],
   "source": [
    "df_results"
   ]
  },
  {
   "cell_type": "code",
   "execution_count": 27,
   "metadata": {},
   "outputs": [],
   "source": [
    "df2 = np.array(df_results)\n",
    "df2 = pd.DataFrame(df2[1:],columns=df_results.columns)\n",
    "df2 = df2.T"
   ]
  },
  {
   "cell_type": "code",
   "execution_count": 28,
   "metadata": {},
   "outputs": [
    {
     "name": "stdout",
     "output_type": "stream",
     "text": [
      "(3, 1)\n"
     ]
    }
   ],
   "source": [
    "works_list = np.array(df_results.columns)\n",
    "np_metrics = np.array(df2)\n",
    "works_list = works_list[2:]\n",
    "works_list = ['\\cite{'+work.split('.')[0]+'}' for work in works_list]\n",
    "works_list = np.array(works_list)\n",
    "works_list = np.reshape(works_list,(len(works_list),1))\n",
    "print(works_list.shape)"
   ]
  },
  {
   "cell_type": "code",
   "execution_count": 29,
   "metadata": {},
   "outputs": [
    {
     "data": {
      "text/plain": [
       "'\\\\cite{n121}&&&A:94.29,S:92.38,R:96.59&A:64.47,S:48.41,R:70.43\\\\\\\\cite{n136}&&&&A:74.23,S:72.92,R:75.51\\\\\\\\cite{n333}&&A:93.0&A:98.8&A:95.0,'"
      ]
     },
     "execution_count": 29,
     "metadata": {},
     "output_type": "execute_result"
    }
   ],
   "source": [
    "[multiclasse,ad_mci,ad_nc,mci_nc] = [0,1,2,3]\n",
    "charar = np.empty((len(np_metrics)-2, 4),dtype=object)\n",
    "charar[:] = ''\n",
    "\n",
    "op = 0\n",
    "for i, amostra in enumerate(np_metrics[2:,:]):\n",
    "    for j, coluna in enumerate(amostra):\n",
    "        if coluna!=0:\n",
    "            vdd_j = j%4\n",
    "            charar[i,vdd_j] = charar[i,vdd_j]+np_metrics[0,j][0] + ':' + str(coluna)+','\n",
    "\n",
    "\n",
    "charar = np.hstack((works_list,charar))      \n",
    "content_table = '\\\\'.join(['&'.join(row) for row in charar])\n",
    "content_table.replace(',&','&').replace(',\\\\','\\\\')"
   ]
  },
  {
   "cell_type": "code",
   "execution_count": 30,
   "metadata": {},
   "outputs": [
    {
     "data": {
      "text/plain": [
       "array([['\\\\cite{n121}', '', '', 'A:94.29,S:92.38,R:96.59,',\n",
       "        'A:64.47,S:48.41,R:70.43,'],\n",
       "       ['\\\\cite{n136}', '', '', '', 'A:74.23,S:72.92,R:75.51,'],\n",
       "       ['\\\\cite{n333}', '', 'A:93.0,', 'A:98.8,', 'A:95.0,']],\n",
       "      dtype=object)"
      ]
     },
     "execution_count": 30,
     "metadata": {},
     "output_type": "execute_result"
    }
   ],
   "source": [
    "charar"
   ]
  },
  {
   "cell_type": "code",
   "execution_count": null,
   "metadata": {},
   "outputs": [],
   "source": []
  },
  {
   "cell_type": "code",
   "execution_count": null,
   "metadata": {},
   "outputs": [],
   "source": []
  },
  {
   "cell_type": "code",
   "execution_count": null,
   "metadata": {},
   "outputs": [],
   "source": []
  },
  {
   "cell_type": "code",
   "execution_count": null,
   "metadata": {},
   "outputs": [],
   "source": []
  },
  {
   "cell_type": "code",
   "execution_count": null,
   "metadata": {},
   "outputs": [],
   "source": []
  },
  {
   "cell_type": "code",
   "execution_count": 31,
   "metadata": {},
   "outputs": [
    {
     "name": "stdout",
     "output_type": "stream",
     "text": [
      "[1]\n",
      "[2]\n",
      "[3]\n",
      "[4]\n",
      "[5]\n"
     ]
    }
   ],
   "source": [
    "o = (('['+str(x)+']') for x in range(1,len(level_mci)+1))\n",
    "for i in o:\n",
    "    print(i)"
   ]
  },
  {
   "cell_type": "code",
   "execution_count": 26,
   "metadata": {},
   "outputs": [],
   "source": [
    "a = (0 for i in range(0,10))"
   ]
  },
  {
   "cell_type": "code",
   "execution_count": 27,
   "metadata": {},
   "outputs": [
    {
     "data": {
      "text/plain": [
       "array([4., 4., 4., 4., 4., 4., 4., 4., 4., 4., 4., 4., 4., 4., 4., 4., 4.,\n",
       "       4., 4., 4.])"
      ]
     },
     "execution_count": 27,
     "metadata": {},
     "output_type": "execute_result"
    }
   ],
   "source": [
    "np.ones(20)*4"
   ]
  },
  {
   "cell_type": "code",
   "execution_count": null,
   "metadata": {},
   "outputs": [],
   "source": []
  }
 ],
 "metadata": {
  "kernelspec": {
   "display_name": "Python 3",
   "language": "python",
   "name": "python3"
  },
  "language_info": {
   "codemirror_mode": {
    "name": "ipython",
    "version": 3
   },
   "file_extension": ".py",
   "mimetype": "text/x-python",
   "name": "python",
   "nbconvert_exporter": "python",
   "pygments_lexer": "ipython3",
   "version": "3.8.5"
  }
 },
 "nbformat": 4,
 "nbformat_minor": 2
}
